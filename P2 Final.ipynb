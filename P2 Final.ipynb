{
 "cells": [
  {
   "cell_type": "markdown",
   "metadata": {},
   "source": [
    "<font color='blue'><h1>Q.2 Solution:</h1></font><br>\n",
    "A prismatic beam whose cross section is in the form of an equilateral triangle is subjected to torsional loading T<br>"
   ]
  },
  {
   "attachments": {
    "Capture.PNG": {
     "image/png": "[encoded data removed]"
    }
   },
   "cell_type": "markdown",
   "metadata": {},
   "source": [
    "![Capture.PNG](attachment:Capture.PNG)"
   ]
  },
  {
   "cell_type": "markdown",
   "metadata": {},
   "source": [
    "Co-ordinates of above triangle are: $(\\frac{2h}{3},0),(\\frac{-h}{3},\\frac{h}{\\sqrt{3}}),(\\frac{-h}{3},\\frac{-h}{\\sqrt{3}}) $\n",
    "\n",
    "Prandtl stress function is $\\psi$ and shear stresses are represented in term of prandtl stress function as:<br> \n",
    "$\\sigma_{zx} = 2G\\alpha\\frac{d\\psi}{dy}$ and $\\sigma_{yz} = -2G\\alpha\\frac{d\\psi}{dx}$<br>\n",
    "\n",
    "Prandtl stress function is found such that $\\psi$ is constant on contour of cross section<br>\n",
    "We have to find equation of line for each surface and multiply them with constant K to get Prandtl stress function\n",
    "\n",
    "Equation:<br>\n",
    "Line1 : $X+\\frac{h}{3} = 0$<br>\n",
    "\n",
    "Line2 : $Y - \\frac{\\frac{2h}{3} - X}{\\sqrt{3}} = 0$<br>\n",
    "\n",
    "Line3 : $Y + \\frac{\\frac{2h}{3} - X}{\\sqrt{3}} = 0$<br>\n",
    "\n",
    "$\\psi = K*Line1*Line2*Line3$"
   ]
  },
  {
   "cell_type": "code",
   "execution_count": 1,
   "metadata": {},
   "outputs": [],
   "source": [
    "import sympy as sp\n",
    "from IPython.display import Math"
   ]
  },
  {
   "cell_type": "code",
   "execution_count": 2,
   "metadata": {},
   "outputs": [
    {
     "data": {
      "text/latex": [
       "$\\displaystyle \\psi = K \\left(X + \\frac{h}{3}\\right) \\left(Y - \\frac{\\sqrt{3} \\left(- X + \\frac{2 h}{3}\\right)}{3}\\right) \\left(Y + \\frac{\\sqrt{3} \\left(- X + \\frac{2 h}{3}\\right)}{3}\\right)$"
      ],
      "text/plain": [
       "<IPython.core.display.Math object>"
      ]
     },
     "metadata": {},
     "output_type": "display_data"
    }
   ],
   "source": [
    "x,y,h,K,G,alpha = sp.symbols('X,Y,h,K,G,alpha')\n",
    "boundry = ((x + h/3)*(y - (2*h/3 - x)/sp.sqrt(3))*(y + (2*h/3 - x)/sp.sqrt(3)))\n",
    "psi = (K*boundry)\n",
    "display(Math(r'\\psi = {}'.format(sp.latex(psi))))\n"
   ]
  },
  {
   "cell_type": "markdown",
   "metadata": {},
   "source": [
    "Now we have to find a constant K for that the condition is $\\nabla^2\\psi = -1$"
   ]
  },
  {
   "cell_type": "code",
   "execution_count": 3,
   "metadata": {},
   "outputs": [
    {
     "data": {
      "text/latex": [
       "$\\displaystyle K = - \\frac{3}{4 h}$"
      ],
      "text/plain": [
       "<IPython.core.display.Math object>"
      ]
     },
     "metadata": {},
     "output_type": "display_data"
    }
   ],
   "source": [
    "lhs = sp.diff(psi,x,2) + sp.diff(psi,y,2)\n",
    "rhs = -1\n",
    "eq = sp.Eq(lhs,rhs)\n",
    "sol = sp.solve(eq,K)\n",
    "Kvalue = sol[0]\n",
    "display(Math(r'K = {}'.format(sp.latex(Kvalue))))"
   ]
  },
  {
   "cell_type": "markdown",
   "metadata": {},
   "source": [
    "Now we got K constant $K =-\\frac{3}{4h}$ we substitute that in above $\\psi$ equation"
   ]
  },
  {
   "cell_type": "code",
   "execution_count": 4,
   "metadata": {},
   "outputs": [
    {
     "data": {
      "text/latex": [
       "$\\displaystyle \\psi = - \\frac{3 \\left(X + \\frac{h}{3}\\right) \\left(Y - \\frac{\\sqrt{3} \\left(- X + \\frac{2 h}{3}\\right)}{3}\\right) \\left(Y + \\frac{\\sqrt{3} \\left(- X + \\frac{2 h}{3}\\right)}{3}\\right)}{4 h}$"
      ],
      "text/plain": [
       "<IPython.core.display.Math object>"
      ]
     },
     "metadata": {},
     "output_type": "display_data"
    }
   ],
   "source": [
    "PSI = psi.subs(K,Kvalue)\n",
    "display(Math(r'\\psi = {}'.format(sp.latex(PSI))))"
   ]
  },
  {
   "cell_type": "markdown",
   "metadata": {},
   "source": [
    "Now we got Prandtl stress function $\\psi$.<br>\n",
    "We have given torsional rigidity in problem.<br>\n",
    "$GJ = \\frac{Gh^4}{15\\sqrt{3}}$<br>\n",
    "\n",
    "We know the equation:\n",
    "\n",
    "$-2G\\oint(x\\psi n_{x} + y\\psi n_{y}).dS$  = $GJ -$ $4G\\int_A{\\psi}dA$ <br>\n",
    "\n",
    "We found out $\\psi$ and torsional rigidity is given so we substitute this in above equation and get $-2G\\oint(x n_{x} + y n_{y})\\psi.dS$ = 0"
   ]
  },
  {
   "cell_type": "code",
   "execution_count": 5,
   "metadata": {},
   "outputs": [
    {
     "data": {
      "text/latex": [
       "$\\displaystyle \\frac{\\sqrt{3} G h^{4}}{45}$"
      ],
      "text/plain": [
       "sqrt(3)*G*h**4/45"
      ]
     },
     "execution_count": 5,
     "metadata": {},
     "output_type": "execute_result"
    }
   ],
   "source": [
    "#torsional rigidity is given in problem GJ\n",
    "GJ = G*h**4/(15*sp.sqrt(3))\n",
    "GJ"
   ]
  },
  {
   "cell_type": "code",
   "execution_count": 6,
   "metadata": {},
   "outputs": [
    {
     "data": {
      "text/latex": [
       "$\\displaystyle \\frac{\\sqrt{3} G h^{4}}{45}$"
      ],
      "text/plain": [
       "sqrt(3)*G*h**4/45"
      ]
     },
     "execution_count": 6,
     "metadata": {},
     "output_type": "execute_result"
    }
   ],
   "source": [
    "4*G*sp.integrate(sp.integrate(PSI,(y,-(2*h/3-x)/sp.sqrt(3),(2*h/3-x)/sp.sqrt(3))),(x,-h/3,2*h/3))"
   ]
  },
  {
   "cell_type": "code",
   "execution_count": 7,
   "metadata": {},
   "outputs": [
    {
     "data": {
      "text/latex": [
       "$\\displaystyle -2G\\oint (xn_x + yn_y)\\psi.dS = 0$"
      ],
      "text/plain": [
       "<IPython.core.display.Math object>"
      ]
     },
     "metadata": {},
     "output_type": "display_data"
    }
   ],
   "source": [
    "lhs = GJ - 4*G*sp.integrate(sp.integrate(PSI,(y,-(2*h/3-x)/sp.sqrt(3),(2*h/3-x)/sp.sqrt(3))),(x,-h/3,2*h/3))\n",
    "display(Math(r'-2G\\oint (xn_x + yn_y)\\psi.dS = {}'.format(sp.latex(lhs))))"
   ]
  },
  {
   "cell_type": "markdown",
   "metadata": {},
   "source": [
    "From above expression we can signify that $\\psi = 0$ at the periphery of surface:<br>\n",
    "We can say that $d\\psi = 0$<br>\n",
    "We know,<br> $d\\psi = \\frac{\\partial\\psi}{\\partial x} dx + \\frac{\\partial\\psi}{\\partial y} dy$<br>\n",
    "\n",
    "$\\frac{\\partial\\psi}{\\partial y} dy + \\frac{\\partial\\psi}{\\partial x} dx = 0$<br>\n",
    "\n",
    "$2G\\alpha\\frac{\\partial\\psi}{\\partial y} \\frac{dy}{ds} - 2G\\alpha\\frac{\\partial\\psi}{\\partial x} (\\frac{-dx}{ds}) = 0$<br>\n",
    "\n",
    "$\\sigma_{xz}n_{x} + \\sigma_{yz}n_{y} = 0$<br>\n",
    "\n",
    "This can be represented in term of traction vector as:<br>\n",
    "${Ti}$ = [$\\sigma$][$\\hat{n}$] = 0<br>\n",
    "\n",
    "So we can say that traction over the entire contour is zero for the corresponding Prandtl stress function $\\psi$<br>\n",
    "\n"
   ]
  },
  {
   "cell_type": "markdown",
   "metadata": {},
   "source": [
    "Derivation for the same is expressed further"
   ]
  }
 ],
 "metadata": {
  "kernelspec": {
   "display_name": "Python 3",
   "language": "python",
   "name": "python3"
  },
  "language_info": {
   "codemirror_mode": {
    "name": "ipython",
    "version": 3
   },
   "file_extension": ".py",
   "mimetype": "text/x-python",
   "name": "python",
   "nbconvert_exporter": "python",
   "pygments_lexer": "ipython3",
   "version": "3.8.5"
  }
 },
 "nbformat": 4,
 "nbformat_minor": 4
}
